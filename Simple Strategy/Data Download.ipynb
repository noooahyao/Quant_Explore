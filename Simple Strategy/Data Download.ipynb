{
 "cells": [
  {
   "cell_type": "code",
   "execution_count": 9,
   "metadata": {},
   "outputs": [],
   "source": [
    "import yfinance as yf\n",
    "import pandas as pd\n",
    "import numpy as np\n",
    "import os\n",
    "from tqdm import tqdm"
   ]
  },
  {
   "cell_type": "code",
   "execution_count": 36,
   "metadata": {},
   "outputs": [],
   "source": [
    "# SPDR S&P 500 ETF Trust (SPY)\n",
    "# Invesco QQQ Trust (QQQ)\n",
    "# iShares Russell 2000 ETF (IWM)\n",
    "# Vanguard Total Stock Market ETF (VTI)\n",
    "# iShares MSCI EAFE ETF (EFA)\n",
    "# iShares MSCI Emerging Markets ETF (EEM)\n",
    "# iShares Core S&P Mid-Cap ETF (IJH)\n",
    "# SPDR Gold Shares (GLD)\n",
    "# iShares US Real Estate ETF (IYR)\n",
    "# Invesco Solar ETF (TAN)\n",
    "# Global X Lithium & Battery Tech ETF (LIT)\n",
    "# ARK Innovation ETF (ARKK)\n",
    "# Vanguard Information Technology ETF (VGT)\n",
    "# Financial Select Sector SPDR Fund (XLF)\n",
    "# Health Care Select Sector SPDR Fund (XLV)\n",
    "# Consumer Discretionary Select Sector SPDR Fund (XLY)\n",
    "# Industrial Select Sector SPDR Fund (XLI)\n",
    "# iShares U.S. Treasury Bond ETF (GOVT)\n",
    "# iShares iBoxx $ Investment Grade Corporate Bond ETF (LQD)\n",
    "# iShares iBoxx $ High Yield Corporate Bond ETF (HYG)\n",
    "\n",
    "# Define a list of ticker symbols for the ETFs you're interested in\n",
    "tickers = ['SPY', 'QQQ', 'IWM', 'VTI', 'EFA', 'EEM', 'IJH', 'GLD', 'IYR', 'TAN', 'LIT', \n",
    "           'ARKK', 'VGT', 'XLF', 'XLV', 'XLY', 'XLI', 'GOVT', 'LQD', 'HYG','XLK','XLE']\n"
   ]
  },
  {
   "cell_type": "code",
   "execution_count": 37,
   "metadata": {},
   "outputs": [
    {
     "name": "stderr",
     "output_type": "stream",
     "text": [
      "Downloading ETF data:  41%|████      | 9/22 [00:16<00:48,  3.69s/it]"
     ]
    },
    {
     "name": "stdout",
     "output_type": "stream",
     "text": [
      "IYR: No data found for this date range, symbol may be delisted\n"
     ]
    },
    {
     "name": "stderr",
     "output_type": "stream",
     "text": [
      "Downloading ETF data:  45%|████▌     | 10/22 [00:27<01:08,  5.75s/it]"
     ]
    },
    {
     "name": "stdout",
     "output_type": "stream",
     "text": [
      "TAN: No data found for this date range, symbol may be delisted\n"
     ]
    },
    {
     "name": "stderr",
     "output_type": "stream",
     "text": [
      "Downloading ETF data:  77%|███████▋  | 17/22 [00:42<00:20,  4.08s/it]"
     ]
    },
    {
     "name": "stdout",
     "output_type": "stream",
     "text": [
      "XLI: No data found for this date range, symbol may be delisted\n"
     ]
    },
    {
     "name": "stderr",
     "output_type": "stream",
     "text": [
      "Downloading ETF data: 100%|██████████| 22/22 [00:47<00:00,  2.17s/it]\n"
     ]
    }
   ],
   "source": [
    "# Define the start and end dates for the price data\n",
    "start_date = '2005-01-01'\n",
    "end_date = pd.Timestamp.today()\n",
    "\n",
    "# Create an empty dictionary to store the price data for each ETF\n",
    "etf_prices = {}\n",
    "\n",
    "# Loop through each ticker symbol and retrieve its historical price data\n",
    "for ticker in tqdm(tickers, desc='Downloading ETF data'):\n",
    "    etf = yf.Ticker(ticker)\n",
    "    prices = etf.history(start=start_date, end=end_date, interval='1d')['Close']\n",
    "    etf_prices[ticker] = prices"
   ]
  },
  {
   "cell_type": "code",
   "execution_count": 38,
   "metadata": {},
   "outputs": [
    {
     "name": "stderr",
     "output_type": "stream",
     "text": [
      "Downloading ETF data: 100%|██████████| 3/3 [00:02<00:00,  1.04it/s]\n"
     ]
    }
   ],
   "source": [
    "for ticker in tqdm(['IYR','XLI','TAN'], desc='Downloading ETF data'):\n",
    "    etf = yf.Ticker(ticker)\n",
    "    prices = etf.history(start=start_date, end=end_date, interval='1d')['Close']\n",
    "    etf_prices[ticker] = prices"
   ]
  },
  {
   "cell_type": "code",
   "execution_count": 40,
   "metadata": {},
   "outputs": [
    {
     "data": {
      "text/html": [
       "<div>\n",
       "<style scoped>\n",
       "    .dataframe tbody tr th:only-of-type {\n",
       "        vertical-align: middle;\n",
       "    }\n",
       "\n",
       "    .dataframe tbody tr th {\n",
       "        vertical-align: top;\n",
       "    }\n",
       "\n",
       "    .dataframe thead th {\n",
       "        text-align: right;\n",
       "    }\n",
       "</style>\n",
       "<table border=\"1\" class=\"dataframe\">\n",
       "  <thead>\n",
       "    <tr style=\"text-align: right;\">\n",
       "      <th></th>\n",
       "      <th>datetime</th>\n",
       "      <th>SPY</th>\n",
       "      <th>QQQ</th>\n",
       "      <th>IWM</th>\n",
       "      <th>VTI</th>\n",
       "      <th>EFA</th>\n",
       "      <th>EEM</th>\n",
       "      <th>IJH</th>\n",
       "      <th>GLD</th>\n",
       "      <th>IYR</th>\n",
       "      <th>...</th>\n",
       "      <th>VGT</th>\n",
       "      <th>XLF</th>\n",
       "      <th>XLV</th>\n",
       "      <th>XLY</th>\n",
       "      <th>XLI</th>\n",
       "      <th>GOVT</th>\n",
       "      <th>LQD</th>\n",
       "      <th>HYG</th>\n",
       "      <th>XLK</th>\n",
       "      <th>XLE</th>\n",
       "    </tr>\n",
       "  </thead>\n",
       "  <tbody>\n",
       "    <tr>\n",
       "      <th>4612</th>\n",
       "      <td>2023-05-01</td>\n",
       "      <td>415.510010</td>\n",
       "      <td>322.190002</td>\n",
       "      <td>175.300003</td>\n",
       "      <td>206.199997</td>\n",
       "      <td>73.510002</td>\n",
       "      <td>39.000000</td>\n",
       "      <td>248.130005</td>\n",
       "      <td>183.970001</td>\n",
       "      <td>84.919998</td>\n",
       "      <td>...</td>\n",
       "      <td>384.760010</td>\n",
       "      <td>33.080002</td>\n",
       "      <td>134.220001</td>\n",
       "      <td>146.399994</td>\n",
       "      <td>100.540001</td>\n",
       "      <td>23.190001</td>\n",
       "      <td>107.790001</td>\n",
       "      <td>74.690002</td>\n",
       "      <td>150.919998</td>\n",
       "      <td>84.169998</td>\n",
       "    </tr>\n",
       "    <tr>\n",
       "      <th>4613</th>\n",
       "      <td>2023-05-02</td>\n",
       "      <td>410.839996</td>\n",
       "      <td>319.380005</td>\n",
       "      <td>171.699997</td>\n",
       "      <td>203.679993</td>\n",
       "      <td>72.769997</td>\n",
       "      <td>38.619999</td>\n",
       "      <td>244.600006</td>\n",
       "      <td>187.520004</td>\n",
       "      <td>83.470001</td>\n",
       "      <td>...</td>\n",
       "      <td>380.450012</td>\n",
       "      <td>32.330002</td>\n",
       "      <td>133.639999</td>\n",
       "      <td>146.550003</td>\n",
       "      <td>99.489998</td>\n",
       "      <td>23.420000</td>\n",
       "      <td>109.089996</td>\n",
       "      <td>74.620003</td>\n",
       "      <td>149.509995</td>\n",
       "      <td>80.510002</td>\n",
       "    </tr>\n",
       "    <tr>\n",
       "      <th>4614</th>\n",
       "      <td>2023-05-03</td>\n",
       "      <td>408.019989</td>\n",
       "      <td>317.290009</td>\n",
       "      <td>172.330002</td>\n",
       "      <td>202.490005</td>\n",
       "      <td>72.959999</td>\n",
       "      <td>38.560001</td>\n",
       "      <td>244.339996</td>\n",
       "      <td>189.110001</td>\n",
       "      <td>83.070000</td>\n",
       "      <td>...</td>\n",
       "      <td>377.760010</td>\n",
       "      <td>31.959999</td>\n",
       "      <td>133.460007</td>\n",
       "      <td>145.389999</td>\n",
       "      <td>99.110001</td>\n",
       "      <td>23.530001</td>\n",
       "      <td>109.269997</td>\n",
       "      <td>74.580002</td>\n",
       "      <td>148.250000</td>\n",
       "      <td>78.989998</td>\n",
       "    </tr>\n",
       "    <tr>\n",
       "      <th>4615</th>\n",
       "      <td>2023-05-04</td>\n",
       "      <td>405.130005</td>\n",
       "      <td>316.170013</td>\n",
       "      <td>170.399994</td>\n",
       "      <td>200.979996</td>\n",
       "      <td>72.809998</td>\n",
       "      <td>38.869999</td>\n",
       "      <td>240.270004</td>\n",
       "      <td>190.440002</td>\n",
       "      <td>83.750000</td>\n",
       "      <td>...</td>\n",
       "      <td>376.230011</td>\n",
       "      <td>31.549999</td>\n",
       "      <td>132.399994</td>\n",
       "      <td>144.270004</td>\n",
       "      <td>98.029999</td>\n",
       "      <td>23.520000</td>\n",
       "      <td>108.970001</td>\n",
       "      <td>74.360001</td>\n",
       "      <td>147.539993</td>\n",
       "      <td>78.110001</td>\n",
       "    </tr>\n",
       "    <tr>\n",
       "      <th>4616</th>\n",
       "      <td>2023-05-05</td>\n",
       "      <td>412.630005</td>\n",
       "      <td>322.890015</td>\n",
       "      <td>174.449997</td>\n",
       "      <td>204.690002</td>\n",
       "      <td>73.879997</td>\n",
       "      <td>39.389999</td>\n",
       "      <td>245.309998</td>\n",
       "      <td>187.460007</td>\n",
       "      <td>85.139999</td>\n",
       "      <td>...</td>\n",
       "      <td>386.179993</td>\n",
       "      <td>32.330002</td>\n",
       "      <td>133.589996</td>\n",
       "      <td>147.190002</td>\n",
       "      <td>99.510002</td>\n",
       "      <td>23.420000</td>\n",
       "      <td>108.540001</td>\n",
       "      <td>74.760002</td>\n",
       "      <td>151.240005</td>\n",
       "      <td>80.230003</td>\n",
       "    </tr>\n",
       "  </tbody>\n",
       "</table>\n",
       "<p>5 rows × 23 columns</p>\n",
       "</div>"
      ],
      "text/plain": [
       "        datetime         SPY         QQQ         IWM         VTI        EFA  \\\n",
       "4612  2023-05-01  415.510010  322.190002  175.300003  206.199997  73.510002   \n",
       "4613  2023-05-02  410.839996  319.380005  171.699997  203.679993  72.769997   \n",
       "4614  2023-05-03  408.019989  317.290009  172.330002  202.490005  72.959999   \n",
       "4615  2023-05-04  405.130005  316.170013  170.399994  200.979996  72.809998   \n",
       "4616  2023-05-05  412.630005  322.890015  174.449997  204.690002  73.879997   \n",
       "\n",
       "            EEM         IJH         GLD        IYR  ...         VGT  \\\n",
       "4612  39.000000  248.130005  183.970001  84.919998  ...  384.760010   \n",
       "4613  38.619999  244.600006  187.520004  83.470001  ...  380.450012   \n",
       "4614  38.560001  244.339996  189.110001  83.070000  ...  377.760010   \n",
       "4615  38.869999  240.270004  190.440002  83.750000  ...  376.230011   \n",
       "4616  39.389999  245.309998  187.460007  85.139999  ...  386.179993   \n",
       "\n",
       "            XLF         XLV         XLY         XLI       GOVT         LQD  \\\n",
       "4612  33.080002  134.220001  146.399994  100.540001  23.190001  107.790001   \n",
       "4613  32.330002  133.639999  146.550003   99.489998  23.420000  109.089996   \n",
       "4614  31.959999  133.460007  145.389999   99.110001  23.530001  109.269997   \n",
       "4615  31.549999  132.399994  144.270004   98.029999  23.520000  108.970001   \n",
       "4616  32.330002  133.589996  147.190002   99.510002  23.420000  108.540001   \n",
       "\n",
       "            HYG         XLK        XLE  \n",
       "4612  74.690002  150.919998  84.169998  \n",
       "4613  74.620003  149.509995  80.510002  \n",
       "4614  74.580002  148.250000  78.989998  \n",
       "4615  74.360001  147.539993  78.110001  \n",
       "4616  74.760002  151.240005  80.230003  \n",
       "\n",
       "[5 rows x 23 columns]"
      ]
     },
     "execution_count": 40,
     "metadata": {},
     "output_type": "execute_result"
    }
   ],
   "source": [
    "df = pd.DataFrame.from_dict(etf_prices)\n",
    "df = df.reset_index()\n",
    "df = df.rename({'Date':'datetime'},axis=1)\n",
    "df['datetime'] = df['datetime'].astype(str).apply(lambda x:x.split()[0])\n",
    "df.iloc[-5:,:]"
   ]
  },
  {
   "cell_type": "code",
   "execution_count": 41,
   "metadata": {},
   "outputs": [],
   "source": [
    "df.to_csv('USD ETFs.csv')"
   ]
  },
  {
   "cell_type": "code",
   "execution_count": null,
   "metadata": {},
   "outputs": [],
   "source": []
  }
 ],
 "metadata": {
  "kernelspec": {
   "display_name": "base",
   "language": "python",
   "name": "python3"
  },
  "language_info": {
   "codemirror_mode": {
    "name": "ipython",
    "version": 3
   },
   "file_extension": ".py",
   "mimetype": "text/x-python",
   "name": "python",
   "nbconvert_exporter": "python",
   "pygments_lexer": "ipython3",
   "version": "3.10.9"
  },
  "orig_nbformat": 4
 },
 "nbformat": 4,
 "nbformat_minor": 2
}
