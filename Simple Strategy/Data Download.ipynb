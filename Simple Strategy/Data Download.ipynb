{
 "cells": [
  {
   "cell_type": "code",
   "execution_count": 1,
   "metadata": {},
   "outputs": [],
   "source": [
    "import yfinance as yf\n",
    "import pandas as pd\n",
    "import numpy as np\n",
    "import os\n",
    "from tqdm import tqdm"
   ]
  },
  {
   "cell_type": "code",
   "execution_count": 8,
   "metadata": {},
   "outputs": [],
   "source": [
    "# SPDR S&P 500 ETF Trust (SPY)\n",
    "# Invesco QQQ Trust (QQQ)\n",
    "# iShares Russell 2000 ETF (IWM)\n",
    "# Vanguard Total Stock Market ETF (VTI)\n",
    "# iShares MSCI EAFE ETF (EFA)\n",
    "# iShares MSCI Emerging Markets ETF (EEM)\n",
    "# iShares Core S&P Mid-Cap ETF (IJH)\n",
    "# SPDR Gold Shares (GLD)\n",
    "# iShares US Real Estate ETF (IYR)\n",
    "# Invesco Solar ETF (TAN)\n",
    "# Global X Lithium & Battery Tech ETF (LIT)\n",
    "# ARK Innovation ETF (ARKK)\n",
    "# Vanguard Information Technology ETF (VGT)\n",
    "# Financial Select Sector SPDR Fund (XLF)\n",
    "# Health Care Select Sector SPDR Fund (XLV)\n",
    "# Consumer Discretionary Select Sector SPDR Fund (XLY)\n",
    "# Industrial Select Sector SPDR Fund (XLI)\n",
    "# iShares U.S. Treasury Bond ETF (GOVT)\n",
    "# iShares iBoxx $ Investment Grade Corporate Bond ETF (LQD)\n",
    "# iShares iBoxx $ High Yield Corporate Bond ETF (HYG)\n",
    "\n",
    "# Define a list of ticker symbols for the ETFs you're interested in\n",
    "tickers = ['SPY', 'QQQ', 'IWM', 'VTI', 'EFA', 'EEM', 'IJH', 'GLD', 'IYR', 'TAN', 'LIT', 'FXI',\n",
    "           'ARKK', 'VGT', 'XLF', 'XLV', 'XLY', 'XLI', 'GOVT', 'LQD', 'HYG','XLK','XLE']\n"
   ]
  },
  {
   "cell_type": "code",
   "execution_count": 9,
   "metadata": {},
   "outputs": [
    {
     "name": "stderr",
     "output_type": "stream",
     "text": [
      "Downloading ETF data:  17%|█▋        | 4/23 [00:13<01:29,  4.72s/it]"
     ]
    },
    {
     "name": "stdout",
     "output_type": "stream",
     "text": [
      "VTI: No data found for this date range, symbol may be delisted\n"
     ]
    },
    {
     "name": "stderr",
     "output_type": "stream",
     "text": [
      "Downloading ETF data:  57%|█████▋    | 13/23 [00:30<00:37,  3.75s/it]"
     ]
    },
    {
     "name": "stdout",
     "output_type": "stream",
     "text": [
      "ARKK: No data found for this date range, symbol may be delisted\n"
     ]
    },
    {
     "name": "stderr",
     "output_type": "stream",
     "text": [
      "Downloading ETF data:  78%|███████▊  | 18/23 [00:43<00:21,  4.21s/it]"
     ]
    },
    {
     "name": "stdout",
     "output_type": "stream",
     "text": [
      "XLI: No data found for this date range, symbol may be delisted\n"
     ]
    },
    {
     "name": "stderr",
     "output_type": "stream",
     "text": [
      "Downloading ETF data:  83%|████████▎ | 19/23 [00:54<00:24,  6.08s/it]"
     ]
    },
    {
     "name": "stdout",
     "output_type": "stream",
     "text": [
      "GOVT: No data found for this date range, symbol may be delisted\n"
     ]
    },
    {
     "name": "stderr",
     "output_type": "stream",
     "text": [
      "Downloading ETF data: 100%|██████████| 23/23 [00:56<00:00,  2.46s/it]\n"
     ]
    }
   ],
   "source": [
    "# Define the start and end dates for the price data\n",
    "start_date = '2005-01-01'\n",
    "end_date = pd.Timestamp.today()\n",
    "\n",
    "# Create an empty dictionary to store the price data for each ETF\n",
    "etf_prices = {}\n",
    "\n",
    "# Loop through each ticker symbol and retrieve its historical price data\n",
    "for ticker in tqdm(tickers, desc='Downloading ETF data'):\n",
    "    etf = yf.Ticker(ticker)\n",
    "    prices = etf.history(start=start_date, end=end_date, interval='1d')['Open']\n",
    "    etf_prices[ticker] = prices"
   ]
  },
  {
   "cell_type": "code",
   "execution_count": 5,
   "metadata": {},
   "outputs": [
    {
     "name": "stderr",
     "output_type": "stream",
     "text": [
      "Downloading ETF data:  17%|█▋        | 1/6 [00:10<00:52, 10.42s/it]"
     ]
    },
    {
     "name": "stdout",
     "output_type": "stream",
     "text": [
      "VIT: No data found for this date range, symbol may be delisted\n"
     ]
    },
    {
     "name": "stderr",
     "output_type": "stream",
     "text": [
      "Downloading ETF data:  50%|█████     | 3/6 [00:21<00:22,  7.40s/it]"
     ]
    },
    {
     "name": "stdout",
     "output_type": "stream",
     "text": [
      "VGT: No data found for this date range, symbol may be delisted\n"
     ]
    },
    {
     "name": "stderr",
     "output_type": "stream",
     "text": [
      "Downloading ETF data: 100%|██████████| 6/6 [00:32<00:00,  5.46s/it]"
     ]
    },
    {
     "name": "stdout",
     "output_type": "stream",
     "text": [
      "XLK: No data found for this date range, symbol may be delisted\n"
     ]
    },
    {
     "name": "stderr",
     "output_type": "stream",
     "text": [
      "\n"
     ]
    }
   ],
   "source": [
    "for ticker in tqdm(['VIT','GLD','VGT','XLV','HYG','XLK'], desc='Downloading ETF data'):\n",
    "    etf = yf.Ticker(ticker)\n",
    "    prices = etf.history(start=start_date, end=end_date, interval='1d')['Close']\n",
    "    etf_prices[ticker] = prices"
   ]
  },
  {
   "cell_type": "code",
   "execution_count": 10,
   "metadata": {},
   "outputs": [
    {
     "data": {
      "text/html": [
       "<div>\n",
       "<style scoped>\n",
       "    .dataframe tbody tr th:only-of-type {\n",
       "        vertical-align: middle;\n",
       "    }\n",
       "\n",
       "    .dataframe tbody tr th {\n",
       "        vertical-align: top;\n",
       "    }\n",
       "\n",
       "    .dataframe thead th {\n",
       "        text-align: right;\n",
       "    }\n",
       "</style>\n",
       "<table border=\"1\" class=\"dataframe\">\n",
       "  <thead>\n",
       "    <tr style=\"text-align: right;\">\n",
       "      <th></th>\n",
       "      <th>datetime</th>\n",
       "      <th>SPY</th>\n",
       "      <th>QQQ</th>\n",
       "      <th>IWM</th>\n",
       "      <th>VTI</th>\n",
       "      <th>EFA</th>\n",
       "      <th>EEM</th>\n",
       "      <th>IJH</th>\n",
       "      <th>GLD</th>\n",
       "      <th>IYR</th>\n",
       "      <th>...</th>\n",
       "      <th>VGT</th>\n",
       "      <th>XLF</th>\n",
       "      <th>XLV</th>\n",
       "      <th>XLY</th>\n",
       "      <th>XLI</th>\n",
       "      <th>GOVT</th>\n",
       "      <th>LQD</th>\n",
       "      <th>HYG</th>\n",
       "      <th>XLK</th>\n",
       "      <th>XLE</th>\n",
       "    </tr>\n",
       "  </thead>\n",
       "  <tbody>\n",
       "    <tr>\n",
       "      <th>4617</th>\n",
       "      <td>2023-05-08</td>\n",
       "      <td>412.970001</td>\n",
       "      <td>322.420013</td>\n",
       "      <td>175.259995</td>\n",
       "      <td>NaN</td>\n",
       "      <td>74.029999</td>\n",
       "      <td>39.529999</td>\n",
       "      <td>246.559998</td>\n",
       "      <td>187.820007</td>\n",
       "      <td>84.879997</td>\n",
       "      <td>...</td>\n",
       "      <td>385.429993</td>\n",
       "      <td>32.509998</td>\n",
       "      <td>133.389999</td>\n",
       "      <td>147.639999</td>\n",
       "      <td>NaN</td>\n",
       "      <td>NaN</td>\n",
       "      <td>107.940002</td>\n",
       "      <td>74.699997</td>\n",
       "      <td>150.949997</td>\n",
       "      <td>81.400002</td>\n",
       "    </tr>\n",
       "    <tr>\n",
       "      <th>4618</th>\n",
       "      <td>2023-05-09</td>\n",
       "      <td>411.130005</td>\n",
       "      <td>322.000000</td>\n",
       "      <td>172.979996</td>\n",
       "      <td>NaN</td>\n",
       "      <td>73.290001</td>\n",
       "      <td>39.009998</td>\n",
       "      <td>243.300003</td>\n",
       "      <td>188.119995</td>\n",
       "      <td>84.209999</td>\n",
       "      <td>...</td>\n",
       "      <td>384.589996</td>\n",
       "      <td>32.139999</td>\n",
       "      <td>132.789993</td>\n",
       "      <td>146.880005</td>\n",
       "      <td>NaN</td>\n",
       "      <td>NaN</td>\n",
       "      <td>107.779999</td>\n",
       "      <td>74.349998</td>\n",
       "      <td>150.330002</td>\n",
       "      <td>79.599998</td>\n",
       "    </tr>\n",
       "    <tr>\n",
       "      <th>4619</th>\n",
       "      <td>2023-05-10</td>\n",
       "      <td>413.880005</td>\n",
       "      <td>324.119995</td>\n",
       "      <td>175.960007</td>\n",
       "      <td>NaN</td>\n",
       "      <td>73.680000</td>\n",
       "      <td>39.130001</td>\n",
       "      <td>246.639999</td>\n",
       "      <td>188.979996</td>\n",
       "      <td>85.199997</td>\n",
       "      <td>...</td>\n",
       "      <td>387.019989</td>\n",
       "      <td>32.470001</td>\n",
       "      <td>132.789993</td>\n",
       "      <td>149.009995</td>\n",
       "      <td>NaN</td>\n",
       "      <td>NaN</td>\n",
       "      <td>108.419998</td>\n",
       "      <td>74.769997</td>\n",
       "      <td>151.309998</td>\n",
       "      <td>80.660004</td>\n",
       "    </tr>\n",
       "    <tr>\n",
       "      <th>4620</th>\n",
       "      <td>2023-05-11</td>\n",
       "      <td>411.950012</td>\n",
       "      <td>325.700012</td>\n",
       "      <td>173.220001</td>\n",
       "      <td>NaN</td>\n",
       "      <td>73.029999</td>\n",
       "      <td>38.810001</td>\n",
       "      <td>242.809998</td>\n",
       "      <td>188.440002</td>\n",
       "      <td>84.480003</td>\n",
       "      <td>...</td>\n",
       "      <td>387.459991</td>\n",
       "      <td>31.879999</td>\n",
       "      <td>132.500000</td>\n",
       "      <td>148.490005</td>\n",
       "      <td>NaN</td>\n",
       "      <td>NaN</td>\n",
       "      <td>109.239998</td>\n",
       "      <td>74.739998</td>\n",
       "      <td>151.580002</td>\n",
       "      <td>78.230003</td>\n",
       "    </tr>\n",
       "    <tr>\n",
       "      <th>4621</th>\n",
       "      <td>2023-05-12</td>\n",
       "      <td>413.420013</td>\n",
       "      <td>326.739990</td>\n",
       "      <td>173.649994</td>\n",
       "      <td>NaN</td>\n",
       "      <td>73.360001</td>\n",
       "      <td>38.740002</td>\n",
       "      <td>243.559998</td>\n",
       "      <td>187.429993</td>\n",
       "      <td>84.320000</td>\n",
       "      <td>...</td>\n",
       "      <td>387.070007</td>\n",
       "      <td>32.240002</td>\n",
       "      <td>132.570007</td>\n",
       "      <td>149.600006</td>\n",
       "      <td>NaN</td>\n",
       "      <td>NaN</td>\n",
       "      <td>108.989998</td>\n",
       "      <td>74.680000</td>\n",
       "      <td>151.410004</td>\n",
       "      <td>78.790001</td>\n",
       "    </tr>\n",
       "  </tbody>\n",
       "</table>\n",
       "<p>5 rows × 24 columns</p>\n",
       "</div>"
      ],
      "text/plain": [
       "        datetime         SPY         QQQ         IWM  VTI        EFA  \\\n",
       "4617  2023-05-08  412.970001  322.420013  175.259995  NaN  74.029999   \n",
       "4618  2023-05-09  411.130005  322.000000  172.979996  NaN  73.290001   \n",
       "4619  2023-05-10  413.880005  324.119995  175.960007  NaN  73.680000   \n",
       "4620  2023-05-11  411.950012  325.700012  173.220001  NaN  73.029999   \n",
       "4621  2023-05-12  413.420013  326.739990  173.649994  NaN  73.360001   \n",
       "\n",
       "            EEM         IJH         GLD        IYR  ...         VGT  \\\n",
       "4617  39.529999  246.559998  187.820007  84.879997  ...  385.429993   \n",
       "4618  39.009998  243.300003  188.119995  84.209999  ...  384.589996   \n",
       "4619  39.130001  246.639999  188.979996  85.199997  ...  387.019989   \n",
       "4620  38.810001  242.809998  188.440002  84.480003  ...  387.459991   \n",
       "4621  38.740002  243.559998  187.429993  84.320000  ...  387.070007   \n",
       "\n",
       "            XLF         XLV         XLY  XLI  GOVT         LQD        HYG  \\\n",
       "4617  32.509998  133.389999  147.639999  NaN   NaN  107.940002  74.699997   \n",
       "4618  32.139999  132.789993  146.880005  NaN   NaN  107.779999  74.349998   \n",
       "4619  32.470001  132.789993  149.009995  NaN   NaN  108.419998  74.769997   \n",
       "4620  31.879999  132.500000  148.490005  NaN   NaN  109.239998  74.739998   \n",
       "4621  32.240002  132.570007  149.600006  NaN   NaN  108.989998  74.680000   \n",
       "\n",
       "             XLK        XLE  \n",
       "4617  150.949997  81.400002  \n",
       "4618  150.330002  79.599998  \n",
       "4619  151.309998  80.660004  \n",
       "4620  151.580002  78.230003  \n",
       "4621  151.410004  78.790001  \n",
       "\n",
       "[5 rows x 24 columns]"
      ]
     },
     "execution_count": 10,
     "metadata": {},
     "output_type": "execute_result"
    }
   ],
   "source": [
    "df = pd.DataFrame.from_dict(etf_prices)\n",
    "df = df.reset_index()\n",
    "df = df.rename({'Date':'datetime'},axis=1)\n",
    "df['datetime'] = df['datetime'].astype(str).apply(lambda x:x.split()[0])\n",
    "df.iloc[-5:,:]"
   ]
  },
  {
   "cell_type": "code",
   "execution_count": 11,
   "metadata": {},
   "outputs": [],
   "source": [
    "df.to_csv('USD ETFs_open.csv')"
   ]
  },
  {
   "cell_type": "code",
   "execution_count": null,
   "metadata": {},
   "outputs": [],
   "source": []
  }
 ],
 "metadata": {
  "kernelspec": {
   "display_name": "base",
   "language": "python",
   "name": "python3"
  },
  "language_info": {
   "codemirror_mode": {
    "name": "ipython",
    "version": 3
   },
   "file_extension": ".py",
   "mimetype": "text/x-python",
   "name": "python",
   "nbconvert_exporter": "python",
   "pygments_lexer": "ipython3",
   "version": "3.10.9"
  },
  "orig_nbformat": 4
 },
 "nbformat": 4,
 "nbformat_minor": 2
}
